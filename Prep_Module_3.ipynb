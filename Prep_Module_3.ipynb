{
  "nbformat": 4,
  "nbformat_minor": 0,
  "metadata": {
    "colab": {
      "name": "Prep Module 3.ipynb",
      "provenance": [],
      "authorship_tag": "ABX9TyMY+/koAR1vpcaI6SjoobKu",
      "include_colab_link": true
    },
    "kernelspec": {
      "name": "python3",
      "display_name": "Python 3"
    },
    "language_info": {
      "name": "python"
    }
  },
  "cells": [
    {
      "cell_type": "markdown",
      "metadata": {
        "id": "view-in-github",
        "colab_type": "text"
      },
      "source": [
        "<a href=\"https://colab.research.google.com/github/Daffodilpearlzz/FMML/blob/main/Prep_Module_3.ipynb\" target=\"_parent\"><img src=\"https://colab.research.google.com/assets/colab-badge.svg\" alt=\"Open In Colab\"/></a>"
      ]
    },
    {
      "cell_type": "code",
      "execution_count": 1,
      "metadata": {
        "id": "Fwg4llqLwRto"
      },
      "outputs": [],
      "source": [
        "vehicle_bucket=['TN01','KA03','TS01','KA04','AP04','KL01','TS03']\n",
        "KA_vehicle=[]\n",
        "for each_item in vehicle_bucket:\n",
        "  if 'KA' in each_item:\n",
        "    KA_vehicle.append(each_item)"
      ]
    },
    {
      "cell_type": "code",
      "source": [
        "KA_list=[each_item for each_item in vehicle_bucket if 'KA' in each_item]\n",
        "KA_list"
      ],
      "metadata": {
        "colab": {
          "base_uri": "https://localhost:8080/"
        },
        "id": "I_2cUZtHxyFZ",
        "outputId": "0b2caa71-66e2-4b4d-dcfe-82d39444115d"
      },
      "execution_count": 2,
      "outputs": [
        {
          "output_type": "execute_result",
          "data": {
            "text/plain": [
              "['KA03', 'KA04']"
            ]
          },
          "metadata": {},
          "execution_count": 2
        }
      ]
    },
    {
      "cell_type": "code",
      "source": [
        "import random\n",
        "random.random()"
      ],
      "metadata": {
        "colab": {
          "base_uri": "https://localhost:8080/"
        },
        "id": "KCJeSij0yFYB",
        "outputId": "3fd848bb-3d76-4e23-c9b5-21089a0ca41e"
      },
      "execution_count": 6,
      "outputs": [
        {
          "output_type": "execute_result",
          "data": {
            "text/plain": [
              "0.7303044958450361"
            ]
          },
          "metadata": {},
          "execution_count": 6
        }
      ]
    },
    {
      "cell_type": "code",
      "source": [
        "type(random.random())"
      ],
      "metadata": {
        "colab": {
          "base_uri": "https://localhost:8080/"
        },
        "id": "XMWE_0WnySyQ",
        "outputId": "0eb2fd4f-df6c-4de7-bfa9-3a6cc35da883"
      },
      "execution_count": 7,
      "outputs": [
        {
          "output_type": "execute_result",
          "data": {
            "text/plain": [
              "float"
            ]
          },
          "metadata": {},
          "execution_count": 7
        }
      ]
    },
    {
      "cell_type": "code",
      "source": [
        "random.randint(0,10)"
      ],
      "metadata": {
        "colab": {
          "base_uri": "https://localhost:8080/"
        },
        "id": "oDwER80_yV5R",
        "outputId": "b1cfef8e-6882-4590-8e0c-c88bf73242e3"
      },
      "execution_count": 9,
      "outputs": [
        {
          "output_type": "execute_result",
          "data": {
            "text/plain": [
              "8"
            ]
          },
          "metadata": {},
          "execution_count": 9
        }
      ]
    },
    {
      "cell_type": "code",
      "source": [
        "my_random_list=[random.randint(0,10) for i in range (20)]\n",
        "print(my_random_list)"
      ],
      "metadata": {
        "colab": {
          "base_uri": "https://localhost:8080/"
        },
        "id": "JmJviSiMydKB",
        "outputId": "016050e8-17f5-476b-bbe6-6e549e1d4e49"
      },
      "execution_count": 21,
      "outputs": [
        {
          "output_type": "stream",
          "name": "stdout",
          "text": [
            "[4, 1, 7, 1, 7, 6, 8, 1, 8, 10, 1, 8, 5, 3, 4, 0, 6, 9, 3, 7]\n"
          ]
        }
      ]
    },
    {
      "cell_type": "code",
      "source": [
        "len(my_random_list)"
      ],
      "metadata": {
        "colab": {
          "base_uri": "https://localhost:8080/"
        },
        "id": "uQvVUFWCypzw",
        "outputId": "128ecaca-d567-43a5-8c95-89a708499a70"
      },
      "execution_count": 22,
      "outputs": [
        {
          "output_type": "execute_result",
          "data": {
            "text/plain": [
              "20"
            ]
          },
          "metadata": {},
          "execution_count": 22
        }
      ]
    },
    {
      "cell_type": "code",
      "source": [
        "type(my_random_list)"
      ],
      "metadata": {
        "colab": {
          "base_uri": "https://localhost:8080/"
        },
        "id": "obUMuqqqysqc",
        "outputId": "60b6fc8e-1fb0-4223-e8d2-462be37bf9ed"
      },
      "execution_count": 23,
      "outputs": [
        {
          "output_type": "execute_result",
          "data": {
            "text/plain": [
              "list"
            ]
          },
          "metadata": {},
          "execution_count": 23
        }
      ]
    },
    {
      "cell_type": "code",
      "source": [
        "for each_item in my_random_list:\n",
        "  print(each_item, end=', ')"
      ],
      "metadata": {
        "colab": {
          "base_uri": "https://localhost:8080/"
        },
        "id": "sHU6FNdQywZQ",
        "outputId": "5e975f3c-03cc-4120-8954-a79852eb3adc"
      },
      "execution_count": 24,
      "outputs": [
        {
          "output_type": "stream",
          "name": "stdout",
          "text": [
            "4, 1, 7, 1, 7, 6, 8, 1, 8, 10, 1, 8, 5, 3, 4, 0, 6, 9, 3, 7, "
          ]
        }
      ]
    },
    {
      "cell_type": "code",
      "source": [
        "for each_item in my_random_list:\n",
        "  print(each_item, end='')"
      ],
      "metadata": {
        "colab": {
          "base_uri": "https://localhost:8080/"
        },
        "id": "y0lBnDSzzMYh",
        "outputId": "6e6b5cfa-28ce-473e-fc0b-7bb1d91e6c38"
      },
      "execution_count": 25,
      "outputs": [
        {
          "output_type": "stream",
          "name": "stdout",
          "text": [
            "417176818101853406937"
          ]
        }
      ]
    },
    {
      "cell_type": "code",
      "source": [
        "import matplotlib.pyplot as plt\n",
        "plt.xlabel('X')\n",
        "plt.ylabel('Random(X)')\n",
        "plt.plot(my_random_list, label='random function');\n",
        "plt.legend()"
      ],
      "metadata": {
        "colab": {
          "base_uri": "https://localhost:8080/",
          "height": 296
        },
        "id": "nL6zohE6zVmr",
        "outputId": "8558c730-768e-42ea-da95-1bed66f43abc"
      },
      "execution_count": 29,
      "outputs": [
        {
          "output_type": "execute_result",
          "data": {
            "text/plain": [
              "<matplotlib.legend.Legend at 0x7f67563655d0>"
            ]
          },
          "metadata": {},
          "execution_count": 29
        },
        {
          "output_type": "display_data",
          "data": {
            "image/png": "[encoded data removed]",
            "text/plain": [
              "<Figure size 432x288 with 1 Axes>"
            ]
          },
          "metadata": {
            "needs_background": "light"
          }
        }
      ]
    },
    {
      "cell_type": "code",
      "source": [
        "import math\n",
        "my_sqrt_list=[math.sqrt(each_item) for each_item in my_random_list]\n",
        "my_sqrt_list"
      ],
      "metadata": {
        "colab": {
          "base_uri": "https://localhost:8080/"
        },
        "id": "6ghotaC70Wum",
        "outputId": "d5110657-f476-48c6-874d-1e5348b436c6"
      },
      "execution_count": 32,
      "outputs": [
        {
          "output_type": "execute_result",
          "data": {
            "text/plain": [
              "[2.0,\n",
              " 1.0,\n",
              " 2.6457513110645907,\n",
              " 1.0,\n",
              " 2.6457513110645907,\n",
              " 2.449489742783178,\n",
              " 2.8284271247461903,\n",
              " 1.0,\n",
              " 2.8284271247461903,\n",
              " 3.1622776601683795,\n",
              " 1.0,\n",
              " 2.8284271247461903,\n",
              " 2.23606797749979,\n",
              " 1.7320508075688772,\n",
              " 2.0,\n",
              " 0.0,\n",
              " 2.449489742783178,\n",
              " 3.0,\n",
              " 1.7320508075688772,\n",
              " 2.6457513110645907]"
            ]
          },
          "metadata": {},
          "execution_count": 32
        }
      ]
    },
    {
      "cell_type": "code",
      "source": [
        "plt.xlabel('X')\n",
        "plt.ylabel('Random(X)')\n",
        "plt.plot(my_random_list, label='Random Function')\n",
        "plt.plot(my_sqrt_list, label='Square roots of random numbers')\n",
        "plt.legend();"
      ],
      "metadata": {
        "colab": {
          "base_uri": "https://localhost:8080/",
          "height": 279
        },
        "id": "mIcnESsh02PO",
        "outputId": "fbc39bb9-ecd6-4848-e534-63e8e193642d"
      },
      "execution_count": 34,
      "outputs": [
        {
          "output_type": "display_data",
          "data": {
            "image/png": "[encoded data removed]",
            "text/plain": [
              "<Figure size 432x288 with 1 Axes>"
            ]
          },
          "metadata": {
            "needs_background": "light"
          }
        }
      ]
    },
    {
      "cell_type": "markdown",
      "source": [
        "Dictionary Comprehension"
      ],
      "metadata": {
        "id": "E6RdytCk2M0k"
      }
    },
    {
      "cell_type": "code",
      "source": [
        ""
      ],
      "metadata": {
        "id": "peVsXkmC1qnE"
      },
      "execution_count": null,
      "outputs": []
    }
  ]
}