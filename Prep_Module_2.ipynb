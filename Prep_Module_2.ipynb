{
  "nbformat": 4,
  "nbformat_minor": 0,
  "metadata": {
    "colab": {
      "name": "Prep Module 1.ipynb",
      "provenance": [],
      "collapsed_sections": [],
      "authorship_tag": "ABX9TyOkogtc3pSnwZgOQEirkHya",
      "include_colab_link": true
    },
    "kernelspec": {
      "name": "python3",
      "display_name": "Python 3"
    },
    "language_info": {
      "name": "python"
    }
  },
  "cells": [
    {
      "cell_type": "markdown",
      "metadata": {
        "id": "view-in-github",
        "colab_type": "text"
      },
      "source": [
        "<a href=\"https://colab.research.google.com/github/Daffodilpearlzz/FMML/blob/main/Prep_Module_1.ipynb\" target=\"_parent\"><img src=\"https://colab.research.google.com/assets/colab-badge.svg\" alt=\"Open In Colab\"/></a>"
      ]
    },
    {
      "cell_type": "markdown",
      "source": [
        "Slicing"
      ],
      "metadata": {
        "id": "NcAEA1T2va8C"
      }
    },
    {
      "cell_type": "code",
      "execution_count": 1,
      "metadata": {
        "id": "DrEaN2p2tB8w"
      },
      "outputs": [],
      "source": [
        "my_str='abcdefgh good'"
      ]
    },
    {
      "cell_type": "code",
      "source": [
        "print(my_str)"
      ],
      "metadata": {
        "colab": {
          "base_uri": "https://localhost:8080/"
        },
        "id": "Q24N2RN4t1Tc",
        "outputId": "fc9432c4-46d5-4f75-d179-59924a138230"
      },
      "execution_count": 3,
      "outputs": [
        {
          "output_type": "stream",
          "name": "stdout",
          "text": [
            "abcdefgh good\n"
          ]
        }
      ]
    },
    {
      "cell_type": "code",
      "source": [
        "my_str[0:10:2]"
      ],
      "metadata": {
        "colab": {
          "base_uri": "https://localhost:8080/",
          "height": 35
        },
        "id": "wgTStVdQt7oJ",
        "outputId": "6aba8555-2502-4d3f-e1ec-17dbd459915a"
      },
      "execution_count": 7,
      "outputs": [
        {
          "output_type": "execute_result",
          "data": {
            "application/vnd.google.colaboratory.intrinsic+json": {
              "type": "string"
            },
            "text/plain": [
              "'aceg '"
            ]
          },
          "metadata": {},
          "execution_count": 7
        }
      ]
    },
    {
      "cell_type": "markdown",
      "source": [
        "Splitting"
      ],
      "metadata": {
        "id": "fIXYBGpeveL0"
      }
    },
    {
      "cell_type": "code",
      "source": [
        "my_sent= 'I love teaching because of the feedback I get from students and because I learn more and more each time I teach.'"
      ],
      "metadata": {
        "id": "LIqjUUeBuBDh"
      },
      "execution_count": 10,
      "outputs": []
    },
    {
      "cell_type": "code",
      "source": [
        "my_sent.split()"
      ],
      "metadata": {
        "colab": {
          "base_uri": "https://localhost:8080/"
        },
        "id": "r0Bvj0t1ujWa",
        "outputId": "074bd93e-e888-4f02-f417-800d0ce70874"
      },
      "execution_count": 11,
      "outputs": [
        {
          "output_type": "execute_result",
          "data": {
            "text/plain": [
              "['I',\n",
              " 'love',\n",
              " 'teaching',\n",
              " 'because',\n",
              " 'of',\n",
              " 'the',\n",
              " 'feedback',\n",
              " 'I',\n",
              " 'get',\n",
              " 'from',\n",
              " 'students',\n",
              " 'and',\n",
              " 'because',\n",
              " 'I',\n",
              " 'learn',\n",
              " 'more',\n",
              " 'and',\n",
              " 'more',\n",
              " 'each',\n",
              " 'time',\n",
              " 'I',\n",
              " 'teach.']"
            ]
          },
          "metadata": {},
          "execution_count": 11
        }
      ]
    },
    {
      "cell_type": "code",
      "source": [
        "type(my_sent.split())"
      ],
      "metadata": {
        "colab": {
          "base_uri": "https://localhost:8080/"
        },
        "id": "pohW9taju1bQ",
        "outputId": "5f8adab6-73a9-4489-ee3d-5184987cbe22"
      },
      "execution_count": 12,
      "outputs": [
        {
          "output_type": "execute_result",
          "data": {
            "text/plain": [
              "list"
            ]
          },
          "metadata": {},
          "execution_count": 12
        }
      ]
    },
    {
      "cell_type": "code",
      "source": [
        "type(my_str)"
      ],
      "metadata": {
        "colab": {
          "base_uri": "https://localhost:8080/"
        },
        "id": "g2A9aCjTu9lm",
        "outputId": "428fb1a1-2782-44e6-c9d5-9ebdeee1c174"
      },
      "execution_count": 14,
      "outputs": [
        {
          "output_type": "execute_result",
          "data": {
            "text/plain": [
              "str"
            ]
          },
          "metadata": {},
          "execution_count": 14
        }
      ]
    },
    {
      "cell_type": "markdown",
      "source": [
        "Mutable String"
      ],
      "metadata": {
        "id": "vm0SbjRXvhyo"
      }
    },
    {
      "cell_type": "code",
      "source": [
        "my_sent='I hella'+ my_sent[1:]"
      ],
      "metadata": {
        "id": "3VoK-6D1vEGz"
      },
      "execution_count": 15,
      "outputs": []
    },
    {
      "cell_type": "code",
      "source": [
        "print(my_sent)"
      ],
      "metadata": {
        "colab": {
          "base_uri": "https://localhost:8080/"
        },
        "id": "H-Tld_yPvQ0f",
        "outputId": "00f76961-8c03-477e-8367-bad66c53337c"
      },
      "execution_count": 16,
      "outputs": [
        {
          "output_type": "stream",
          "name": "stdout",
          "text": [
            "I hella love teaching because of the feedback I get from students and because I learn more and more each time I teach.\n"
          ]
        }
      ]
    },
    {
      "cell_type": "markdown",
      "source": [
        "Listing"
      ],
      "metadata": {
        "id": "nmHt9ckbvWMU"
      }
    },
    {
      "cell_type": "code",
      "source": [
        "my_list=my_sent.split()\n",
        "print(my_list)\n",
        "my_list[0]\n",
        "my_list[0:10:2]"
      ],
      "metadata": {
        "colab": {
          "base_uri": "https://localhost:8080/"
        },
        "id": "o5Db8p6qvU1W",
        "outputId": "14078fb7-588c-4769-dd96-fae674934b95"
      },
      "execution_count": 18,
      "outputs": [
        {
          "output_type": "stream",
          "name": "stdout",
          "text": [
            "['I', 'hella', 'love', 'teaching', 'because', 'of', 'the', 'feedback', 'I', 'get', 'from', 'students', 'and', 'because', 'I', 'learn', 'more', 'and', 'more', 'each', 'time', 'I', 'teach.']\n"
          ]
        },
        {
          "output_type": "execute_result",
          "data": {
            "text/plain": [
              "['I', 'love', 'because', 'the', 'I']"
            ]
          },
          "metadata": {},
          "execution_count": 18
        }
      ]
    },
    {
      "cell_type": "code",
      "source": [
        ""
      ],
      "metadata": {
        "id": "DscOnSVdvuhr"
      },
      "execution_count": null,
      "outputs": []
    }
  ]
}
